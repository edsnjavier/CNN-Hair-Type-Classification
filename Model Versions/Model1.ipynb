{
 "cells": [
  {
   "cell_type": "markdown",
   "id": "5e0d2475-ebbb-46cd-9cb9-d56881ff22c7",
   "metadata": {},
   "source": [
    "# 1. Importing Libraries & Modules"
   ]
  },
  {
   "cell_type": "code",
   "execution_count": 62,
   "id": "d9ab9bc2-8a36-4c46-9fa0-2c43beae0e11",
   "metadata": {},
   "outputs": [],
   "source": [
    "from pathlib import Path\n",
    "import imghdr\n",
    "import os\n",
    "import tensorflow as tf\n",
    "from tensorflow import keras\n",
    "from tensorflow.keras import layers\n",
    "from tensorflow.keras.preprocessing.image import load_img, img_to_array # new\n",
    "from tensorflow.keras.preprocessing import image_dataset_from_directory # new\n",
    "import matplotlib.pyplot as plt\n",
    "import numpy as np\n",
    "import tensorflow as tf\n",
    "from tensorflow import keras\n",
    "from tensorflow.keras import layers\n",
    "from keras.models import Sequential\n",
    "from keras.layers import Dense\n",
    "from PIL import Image # new\n",
    "import cv2 # new \n",
    "from tqdm import tqdm # new\n",
    "import re # new\n",
    "import difPy # new\n",
    "import shutil # new"
   ]
  },
  {
   "cell_type": "markdown",
   "id": "1671a367-b22b-4be5-b7af-d52ba6054e49",
   "metadata": {},
   "source": [
    "# 2. Preprocessing & Checking the Dataset"
   ]
  },
  {
   "cell_type": "markdown",
   "id": "d0198deb-e786-43d7-9c38-e774453838af",
   "metadata": {},
   "source": [
    "## 2.1. Defining the File's Directory, Extensions, and Types of the Dataset"
   ]
  },
  {
   "cell_type": "code",
   "execution_count": 63,
   "id": "daa3c9fc-3dcb-4c42-a171-a5ceaed91420",
   "metadata": {},
   "outputs": [],
   "source": [
    "# Define the directory containing the dataset\n",
    "data_dir = \"hair_types\"\n",
    "\n",
    "# Define the list of valid image file extensions\n",
    "image_extensions = [\".png\", \".jpg\"]  # Add all valid image file extensions here\n",
    "\n",
    "# Define the list of image types accepted by TensorFlow, all okay\n",
    "img_type_accepted_by_tf = [\"bmp\", \"gif\", \"jpeg\", \"png\"]"
   ]
  },
  {
   "cell_type": "markdown",
   "id": "8af06698-120b-4cd9-81ee-ede677f7794d",
   "metadata": {},
   "source": [
    "## 2.2. Defining Image Size and Batch Size"
   ]
  },
  {
   "cell_type": "code",
   "execution_count": 64,
   "id": "171d96d0-9442-40a1-b55d-ef326198add9",
   "metadata": {},
   "outputs": [],
   "source": [
    "# Define the size to which images will be resized for processing\n",
    "image_size = (64, 64)\n",
    "\n",
    "# Define the batch size for training and evaluation\n",
    "batch_size = 32"
   ]
  },
  {
   "cell_type": "markdown",
   "id": "459eceea-a552-4a99-8a1c-fcd132771c10",
   "metadata": {},
   "source": [
    "## 2.3. Validating If Files are Valid, Else Delete"
   ]
  },
  {
   "cell_type": "code",
   "execution_count": 65,
   "id": "067ec996-12f5-43b1-a70e-911828459e7e",
   "metadata": {},
   "outputs": [
    {
     "name": "stderr",
     "output_type": "stream",
     "text": [
      "23it [00:00, 117.21it/s]"
     ]
    },
    {
     "name": "stdout",
     "output_type": "stream",
     "text": [
      "Converted hair_types\\Curly_Hair\\090617-header-mobile.jpg to JPEG\n"
     ]
    },
    {
     "name": "stderr",
     "output_type": "stream",
     "text": [
      "92it [00:00, 128.26it/s]"
     ]
    },
    {
     "name": "stdout",
     "output_type": "stream",
     "text": [
      "Converted hair_types\\Curly_Hair\\beautiful-young-woman-long-curly-260nw-1212622882.jpg to JPEG\n",
      "Converted hair_types\\Curly_Hair\\blonde-girl-voluminous-curly-hair-600w-1432618526.jpg to JPEG\n"
     ]
    },
    {
     "name": "stderr",
     "output_type": "stream",
     "text": [
      "159it [00:01, 154.70it/s]"
     ]
    },
    {
     "name": "stdout",
     "output_type": "stream",
     "text": [
      "Converted hair_types\\Curly_Hair\\GettyImages-646055712_trans_NvBQzQNjv4BqDo1PhbPPiB1HBZscUHLBE78-ICSbD7iLWCuXgZfDuIk.jpg to JPEG\n"
     ]
    },
    {
     "name": "stderr",
     "output_type": "stream",
     "text": [
      "299it [00:02, 148.44it/s]"
     ]
    },
    {
     "name": "stdout",
     "output_type": "stream",
     "text": [
      "Converted hair_types\\Curly_Hair\\indian-baby-girl-curly-hair-600w-1664313094.jpg to JPEG\n"
     ]
    },
    {
     "name": "stderr",
     "output_type": "stream",
     "text": [
      "346it [00:02, 137.75it/s]"
     ]
    },
    {
     "name": "stdout",
     "output_type": "stream",
     "text": [
      "Converted hair_types\\Curly_Hair\\photo.jpg to JPEG\n",
      "Converted hair_types\\Curly_Hair\\Untitled-8.jpg to JPEG\n"
     ]
    },
    {
     "name": "stderr",
     "output_type": "stream",
     "text": [
      "374it [00:02, 138.48it/s]"
     ]
    },
    {
     "name": "stdout",
     "output_type": "stream",
     "text": [
      "hair_types\\Straight_Hair\\10100463715_c9aae924f1_z.jpg is not an image and is deleted.\n",
      "hair_types\\Straight_Hair\\14280152025_6735cb2c8e_z.jpg is not an image and is deleted.\n"
     ]
    },
    {
     "name": "stderr",
     "output_type": "stream",
     "text": [
      "997it [00:06, 152.85it/s]\n"
     ]
    }
   ],
   "source": [
    "for filepath in Path(data_dir).rglob(\"*\"):\n",
    "    if filepath.suffix.lower() in image_extensions:\n",
    "        img_type = imghdr.what(filepath)\n",
    "        if img_type is None:\n",
    "            print(f\"{filepath} is not an image and is deleted.\")\n",
    "            os.remove(filepath)\n",
    "        elif img_type == \"webp\":\n",
    "            try:\n",
    "                # Open the webp image\n",
    "                img = Image.open(filepath)\n",
    "                # Convert and save as jpeg\n",
    "                new_filepath = str(filepath.with_suffix('.jpg'))\n",
    "                img.save(new_filepath, \"JPEG\")\n",
    "                print(f\"Converted {filepath} to JPEG\")\n",
    "            except Exception as e:\n",
    "                print(f\"Error converting {filepath}: {e}\")"
   ]
  },
  {
   "cell_type": "markdown",
   "id": "d99169f5-3135-48b1-a87a-de0b2ccf776b",
   "metadata": {},
   "source": [
    "## 2.4. Resizing Images to 64 by 64 Pixels"
   ]
  },
  {
   "cell_type": "code",
   "execution_count": 67,
   "id": "85e519b9-78e1-4a40-b56b-dbb307140a8c",
   "metadata": {},
   "outputs": [
    {
     "name": "stderr",
     "output_type": "stream",
     "text": [
      "4it [00:09,  2.33s/it]"
     ]
    },
    {
     "name": "stdout",
     "output_type": "stream",
     "text": [
      "Successfully resized and overwritten: 905 images\n",
      "Failed to resize and overwrite: 0 images\n"
     ]
    },
    {
     "name": "stderr",
     "output_type": "stream",
     "text": [
      "\n"
     ]
    }
   ],
   "source": [
    "# Initialize counters\n",
    "success_count = 0\n",
    "failure_count = 0\n",
    "\n",
    "# Iterate through the dataset directory\n",
    "for root, dirs, files in os.walk(data_dir):\n",
    "    for file in files:\n",
    "        # Check if the file is an image (you may want to add more image extensions)\n",
    "        if file.endswith(\".jpg\") or file.endswith(\".png\"):\n",
    "            # Construct the file path\n",
    "            file_path = os.path.join(root, file)\n",
    "            try:\n",
    "                # Open the image\n",
    "                img = Image.open(file_path)\n",
    "                # Resize the image\n",
    "                img_resized = img.resize(image_size)\n",
    "                # Try to save the resized image\n",
    "                try:\n",
    "                    img_resized.save(file_path)\n",
    "                    success_count += 1\n",
    "                # Handle the specific exception \"cannot write mode RGBA as JPEG\"\n",
    "                except OSError as ex:\n",
    "                    if \"cannot write mode RGBA as JPEG\" in str(ex):\n",
    "                        # Convert the image to RGB mode (removing alpha channel)\n",
    "                        img_resized = img_resized.convert(\"RGB\")\n",
    "                        # Save the image as JPEG\n",
    "                        img_resized.save(file_path)\n",
    "                        success_count += 1\n",
    "                    else:\n",
    "                        raise ex  # Raise other OSError exceptions\n",
    "            except Exception as e:\n",
    "                failure_count += 1\n",
    "                print(f\"Error processing {file_path}: {e}\")\n",
    "\n",
    "# Print the counts\n",
    "print(f\"Successfully resized and overwritten: {success_count} images\")\n",
    "print(f\"Failed to resize and overwrite: {failure_count} images\")"
   ]
  },
  {
   "cell_type": "markdown",
   "id": "15df1fc8-7f12-4e35-a9aa-7d50d74b5b66",
   "metadata": {},
   "source": [
    "## 2.4. Checking for Duplicate Images"
   ]
  },
  {
   "cell_type": "code",
   "execution_count": 68,
   "id": "2ef77d84-d711-40d9-8fbe-a034c5fbaa62",
   "metadata": {},
   "outputs": [],
   "source": [
    "# Define the directory containing the dataset image duplicates\n",
    "dupe_data_dir = \"hair_types_duplicates\""
   ]
  },
  {
   "cell_type": "code",
   "execution_count": 69,
   "id": "9375a737-3b0c-4e62-b11a-ebbe3c0954b1",
   "metadata": {},
   "outputs": [
    {
     "name": "stderr",
     "output_type": "stream",
     "text": [
      "100%|█████████████████████████████████████████████████████████████████████████████| 339/339 [00:00<00:00, 84695.56it/s]\n",
      "100%|█████████████████████████████████████████████████████████████████████████████| 322/322 [00:00<00:00, 80419.55it/s]\n",
      "100%|██████████████████████████████████████████████████████████████████████████████| 331/331 [00:00<00:00, 3939.22it/s]"
     ]
    },
    {
     "name": "stdout",
     "output_type": "stream",
     "text": [
      "Total number of duplicate images: 68\n"
     ]
    },
    {
     "name": "stderr",
     "output_type": "stream",
     "text": [
      "\n"
     ]
    }
   ],
   "source": [
    "# Initialize a counter for duplicate images\n",
    "duplicate_count = 0\n",
    "\n",
    "# Iterate through the subfolders\n",
    "for subdir in [\"curly_hair\", \"straight_hair\", \"wavy_hair\"]:\n",
    "    # Construct the full path to the subfolder\n",
    "    subdir_path = os.path.join(data_dir, subdir)\n",
    "    \n",
    "    # Initialize a dictionary to store filenames and their counts\n",
    "    filename_counts = {}\n",
    "    \n",
    "    # Iterate through the files in the subfolder\n",
    "    for filename in tqdm(os.listdir(subdir_path)):\n",
    "        # Extract the filename without the extension\n",
    "        name, ext = os.path.splitext(filename)\n",
    "        \n",
    "        # Remove any numbers in parentheses from the filename\n",
    "        base_name = re.sub(r'\\(\\d+\\)', '', name)\n",
    "        \n",
    "        # Increment the count for this base filename\n",
    "        filename_counts[base_name] = filename_counts.get(base_name, 0) + 1\n",
    "        \n",
    "        # Check if this is a duplicate filename\n",
    "        if filename_counts[base_name] > 1:\n",
    "            # Increment the counter for duplicate images\n",
    "            duplicate_count += 1\n",
    "\n",
    "            # Move the duplicate image to the duplicate directory\n",
    "            src_path = os.path.join(subdir_path, filename)\n",
    "            dst_path = os.path.join(dupe_data_dir, filename)\n",
    "            shutil.move(src_path, dst_path)\n",
    "\n",
    "# Print the total number of duplicate images found\n",
    "print(f\"Total number of duplicate images: {duplicate_count}\")"
   ]
  },
  {
   "cell_type": "markdown",
   "id": "2dc8e4f3-c3bf-45ee-a32d-1275534773cb",
   "metadata": {},
   "source": [
    "### https://pypi.org/project/difPy/"
   ]
  },
  {
   "cell_type": "code",
   "execution_count": 70,
   "id": "52b511cf-5f6f-4425-b6cb-78cc43812882",
   "metadata": {},
   "outputs": [
    {
     "name": "stdout",
     "output_type": "stream",
     "text": [
      "difPy preparing files: [100%]\n",
      "difPy searching files: [100%]\n",
      "Moved 3 files(s) to \"C:\\Users\\User\\Documents\\LabEx_3\\hair_types_duplicates\"\n"
     ]
    }
   ],
   "source": [
    "dif = difPy.build([r'C:\\Users\\User\\Documents\\LabEx_3\\hair_types\\Curly_Hair', r'C:\\Users\\User\\Documents\\LabEx_3\\hair_types\\Straight_Hair', r'C:\\Users\\User\\Documents\\LabEx_3\\hair_types\\Wavy_Hair'])\n",
    "search = difPy.search(dif, similarity='duplicates', show_progress=True, logs=True, px_size=64)\n",
    "\n",
    "search.move_to(destination_path=r'C:\\Users\\User\\Documents\\LabEx_3\\hair_types_duplicates')"
   ]
  },
  {
   "cell_type": "markdown",
   "id": "be9f1cf3-c405-4a09-8cef-fbdbc70d068b",
   "metadata": {},
   "source": [
    "## 2.5. Convert to Grayscale and Apply Inverse Thresholding Filter"
   ]
  },
  {
   "cell_type": "code",
   "execution_count": 71,
   "id": "f6658203-64a3-4be4-a8d1-8927330268e8",
   "metadata": {},
   "outputs": [
    {
     "name": "stderr",
     "output_type": "stream",
     "text": [
      "100%|███████████████████████████████████████████████████████████████████████████████| 337/337 [00:00<00:00, 445.80it/s]\n"
     ]
    },
    {
     "name": "stdout",
     "output_type": "stream",
     "text": [
      "Error processing hair_types\\curly_hair\\rs_1080x1080-200330130638-1080-ariana-grande-curly-hair-instagram-am-033020.gif: OpenCV(4.9.0) D:\\a\\opencv-python\\opencv-python\\opencv\\modules\\imgproc\\src\\color.cpp:196: error: (-215:Assertion failed) !_src.empty() in function 'cv::cvtColor'\n",
      "\n"
     ]
    },
    {
     "name": "stderr",
     "output_type": "stream",
     "text": [
      "100%|███████████████████████████████████████████████████████████████████████████████| 318/318 [00:00<00:00, 671.21it/s]\n",
      "100%|███████████████████████████████████████████████████████████████████████████████| 266/266 [00:00<00:00, 716.64it/s]\n"
     ]
    }
   ],
   "source": [
    "unedited_dir = r\"C:\\Users\\User\\Documents\\LabEx_3\\hair_types_unedited\"\n",
    "\n",
    "# Loop through each subfolder\n",
    "for hair_type in [\"curly_hair\", \"straight_hair\", \"wavy_hair\"]:\n",
    "    # Get the path to the current subfolder\n",
    "    hair_type_dir = os.path.join(data_dir, hair_type)\n",
    "    \n",
    "    # Create the unedited directory if it doesn't exist\n",
    "    os.makedirs(unedited_dir, exist_ok=True)\n",
    "    \n",
    "    # Loop through each image file in the current subfolder\n",
    "    for filename in tqdm(os.listdir(hair_type_dir)):\n",
    "        # Get the path to the current image file\n",
    "        img_path = os.path.join(hair_type_dir, filename)\n",
    "        \n",
    "        try:\n",
    "            # Read the image\n",
    "            img = cv2.imread(img_path)\n",
    "            \n",
    "            # Convert the image to grayscale\n",
    "            gray_img = cv2.cvtColor(img, cv2.COLOR_BGR2GRAY)\n",
    "\n",
    "            # Apply inverse thresholding\n",
    "            _, thresholded_img = cv2.threshold(gray_img, 127, 255, cv2.THRESH_BINARY_INV)\n",
    "            \n",
    "            # Save the thresholded image, overwriting the original file\n",
    "            cv2.imwrite(img_path, thresholded_img)\n",
    "        \n",
    "        except Exception as e:\n",
    "            # If an error occurs, move the image to the unedited directory\n",
    "            print(f\"Error processing {img_path}: {str(e)}\")\n",
    "            shutil.move(img_path, os.path.join(unedited_dir, filename))"
   ]
  },
  {
   "cell_type": "markdown",
   "id": "8fc053e1-8bfb-44b5-b5e8-615e052744fb",
   "metadata": {},
   "source": [
    "# 3. Using a DataLoader for Data Loading"
   ]
  },
  {
   "cell_type": "markdown",
   "id": "2fa1f795-f2f9-4e38-8f06-4c0fd0ca3536",
   "metadata": {},
   "source": [
    "## 3.1. Define Training Set"
   ]
  },
  {
   "cell_type": "code",
   "execution_count": 72,
   "id": "8d1f9988-6483-40ca-a177-7505f397f8a0",
   "metadata": {},
   "outputs": [
    {
     "name": "stdout",
     "output_type": "stream",
     "text": [
      "Found 920 files belonging to 3 classes.\n",
      "Using 736 files for training.\n"
     ]
    }
   ],
   "source": [
    "# Create a TensorFlow dataset for training from images in the \"hair_types/\" directory\n",
    "train_ds = tf.keras.preprocessing.image_dataset_from_directory(\n",
    "    \"hair_types/\",                         # Directory containing the image dataset\n",
    "    validation_split=0.2,                  # Percentage of split of the data for validation\n",
    "    subset=\"training\",                     # Specify training subset\n",
    "    seed=42,                             # Starting point\n",
    "    image_size=image_size,                 # Resize images to specified dimensions, set previously\n",
    "    batch_size=batch_size,                 # Set batch size for training, set previously\n",
    "    labels='inferred',                     # Infer class labels from directory structure\n",
    "    label_mode='categorical'               # Use categorical labels (one-hot encoding)\n",
    ")"
   ]
  },
  {
   "cell_type": "code",
   "execution_count": 73,
   "id": "c1b2baff-0520-4e1e-a7fa-d9d7f05e7ec1",
   "metadata": {},
   "outputs": [],
   "source": [
    "# Apply preprocessing to the dataset\n",
    "# preprocessed_train_ds = train_ds.map(lambda x, y: (preprocess_image(x), y))"
   ]
  },
  {
   "cell_type": "markdown",
   "id": "f7be990d-d67b-45cc-851f-6bc185a4338d",
   "metadata": {},
   "source": [
    "## 3.2. Define Validation Set"
   ]
  },
  {
   "cell_type": "code",
   "execution_count": 74,
   "id": "f55e7f9a-9f15-4a5b-97a7-3b9cd6158e4e",
   "metadata": {},
   "outputs": [
    {
     "name": "stdout",
     "output_type": "stream",
     "text": [
      "Found 920 files belonging to 3 classes.\n",
      "Using 184 files for validation.\n"
     ]
    }
   ],
   "source": [
    "# Create a TensorFlow dataset for validation from images in the \"hair_types/\" directory\n",
    "val_ds = tf.keras.preprocessing.image_dataset_from_directory(\n",
    "    \"hair_types/\",                         # Directory containing the image dataset\n",
    "    validation_split=0.2,                  # Percentage of split of the data for validation\n",
    "    subset=\"validation\",                   # Specify validation subset\n",
    "    seed=42,                             # Starting point\n",
    "    image_size=image_size,                 # Resize images to specified dimensions, set previously\n",
    "    batch_size=batch_size,                 # Set batch size for training, set previously\n",
    "    labels='inferred',                     # Infer class labels from directory structure\n",
    "    label_mode='categorical'               # Use categorical labels (one-hot encoding)\n",
    ")"
   ]
  },
  {
   "cell_type": "code",
   "execution_count": 75,
   "id": "13f9d16c-7d37-4c9f-a7fd-98f996a4997b",
   "metadata": {},
   "outputs": [],
   "source": [
    "# Apply preprocessing to the dataset\n",
    "# preprocessed_val_ds = train_ds.map(lambda x, y: (preprocess_image(x), y))"
   ]
  },
  {
   "cell_type": "markdown",
   "id": "6e08fbee-d60f-4cfd-b96f-6986c90a9556",
   "metadata": {},
   "source": [
    "# 3.3. Visualizing the Data"
   ]
  },
  {
   "cell_type": "code",
   "execution_count": 76,
   "id": "c271b6d9-5aed-4c73-b8d2-acd9a75e7e5c",
   "metadata": {},
   "outputs": [
    {
     "data": {
      "text/plain": [
       "<Figure size 1000x1000 with 0 Axes>"
      ]
     },
     "execution_count": 76,
     "metadata": {},
     "output_type": "execute_result"
    },
    {
     "data": {
      "text/plain": [
       "<Figure size 1000x1000 with 0 Axes>"
      ]
     },
     "metadata": {},
     "output_type": "display_data"
    }
   ],
   "source": [
    "# Create a figure with a 10x10-inch size for displaying images\n",
    "plt.figure(figsize=(10, 10))"
   ]
  },
  {
   "cell_type": "code",
   "execution_count": 77,
   "id": "d7118977-653c-40a7-ac4f-85c4f8e02315",
   "metadata": {},
   "outputs": [
    {
     "data": {
      "image/png": "[encoded data removed]",
      "text/plain": [
       "<Figure size 640x480 with 9 Axes>"
      ]
     },
     "metadata": {},
     "output_type": "display_data"
    }
   ],
   "source": [
    "# Iterate over the first batch of images and labels in the preprocessed training dataset\n",
    "for images, labels in train_ds.take(1):\n",
    "    # Display the first 9 preprocessed images in a 3x3 grid\n",
    "    for i in range(9):\n",
    "        # Create a subplot for each image\n",
    "        ax = plt.subplot(3, 3, i + 1)\n",
    "        \n",
    "        # Display the preprocessed image as a numpy array and convert it to uint8 datatype\n",
    "        plt.imshow(images[i].numpy().astype(\"uint8\"), cmap='gray')  # cmap='gray' for grayscale images\n",
    "        \n",
    "        # Set the title of the subplot to the integer label of the image\n",
    "        plt.title(int(np.argmax(labels[i])))\n",
    "        \n",
    "        # Disable axis ticks and labels\n",
    "        plt.axis(\"off\")\n",
    "# Display the plot\n",
    "plt.show()"
   ]
  },
  {
   "cell_type": "markdown",
   "id": "c6cc07bb-bda2-4021-83b4-7405c61a0a33",
   "metadata": {},
   "source": [
    "# 4. Creating the CNN Model"
   ]
  },
  {
   "cell_type": "code",
   "execution_count": 78,
   "id": "0a098399-2b38-4c36-a961-825923c90781",
   "metadata": {},
   "outputs": [],
   "source": [
    "# Create a Sequential model\n",
    "model = Sequential()\n",
    "\n",
    "# Add an input layer with the specified image size and 3 color channels\n",
    "model.add(keras.Input(shape=image_size + (3,)))  # 64x64x3\n",
    "\n",
    "# Normalize pixel values to the range [0, 1]\n",
    "model.add(layers.Rescaling(1.0 / 255))"
   ]
  },
  {
   "cell_type": "markdown",
   "id": "4b38a943-25a1-44d7-82cc-2b7a4522ceca",
   "metadata": {},
   "source": [
    "## 4.1. Adding Convolutional Layers with ReLU"
   ]
  },
  {
   "cell_type": "code",
   "execution_count": 79,
   "id": "7863e032-e5a2-406b-8320-9ef08953b17e",
   "metadata": {},
   "outputs": [],
   "source": [
    "# Add convolutional layers with ReLU activation\n",
    "model.add(layers.Conv2D(filters=4, kernel_size=16, strides=1, padding='valid', dilation_rate=1))\n",
    "model.add(layers.Activation(\"relu\"))\n",
    "model.add(layers.MaxPooling2D(pool_size=(2, 2), padding='same')) # adding max pooling\n",
    "\n",
    "model.add(layers.Conv2D(filters=8, kernel_size=8, strides=1, padding='valid', dilation_rate=1))\n",
    "model.add(layers.Activation(\"relu\"))\n",
    "model.add(layers.MaxPooling2D(pool_size=(2, 2), padding='same')) # adding max pooling\n",
    "\n",
    "model.add(layers.Conv2D(filters=16, kernel_size=4, strides=1, padding='valid', dilation_rate=1))\n",
    "model.add(layers.Activation(\"relu\"))\n",
    "model.add(layers.MaxPooling2D(pool_size=(2, 2), padding='same')) # adding max pooling\n",
    "\n",
    "# Add two more convolutional layers\n",
    "model.add(layers.Conv2D(filters=32, kernel_size=3, strides=1, padding='same', dilation_rate=1))\n",
    "model.add(layers.Activation(\"relu\"))\n",
    "model.add(layers.MaxPooling2D(pool_size=(2, 2), padding='same')) # adding max pooling\n",
    "\n",
    "model.add(layers.Conv2D(filters=64, kernel_size=3, strides=1, padding='same', dilation_rate=1))\n",
    "model.add(layers.Activation(\"relu\"))\n",
    "model.add(layers.MaxPooling2D(pool_size=(2, 2), padding='same')) # adding max pooling"
   ]
  },
  {
   "cell_type": "code",
   "execution_count": 80,
   "id": "d1d4a65d-362b-4dad-9e98-86ede00d4cfb",
   "metadata": {},
   "outputs": [],
   "source": [
    "# Add global average pooling layer\n",
    "model.add(layers.GlobalAveragePooling2D())"
   ]
  },
  {
   "cell_type": "code",
   "execution_count": 81,
   "id": "c3e21ac2-49bb-4162-9794-60fdb55b1404",
   "metadata": {},
   "outputs": [],
   "source": [
    "# Add fully connected layers with ReLU activation\n",
    "model.add(layers.Dense(64))\n",
    "model.add(layers.Activation(\"relu\"))"
   ]
  },
  {
   "cell_type": "code",
   "execution_count": 82,
   "id": "d60db253-839f-47fb-9a4c-a35df725e1b6",
   "metadata": {},
   "outputs": [],
   "source": [
    "# Add output layer with softmax activation for multi-class classification\n",
    "model.add(layers.Dense(3))\n",
    "model.add(layers.Activation(\"softmax\"))"
   ]
  },
  {
   "cell_type": "markdown",
   "id": "99f6cf29-eb7f-4389-893e-70885966c6e4",
   "metadata": {},
   "source": [
    "## 4.2. Saving CNN Architecture as an Image"
   ]
  },
  {
   "cell_type": "code",
   "execution_count": 83,
   "id": "3f9a136c-c4ed-4018-be1d-2dc99dcbd1b2",
   "metadata": {},
   "outputs": [],
   "source": [
    "# Plot the model architecture and save it as an image file\n",
    "# tf.keras.utils.plot_model(model, to_file='model_test.png', show_shapes=True)"
   ]
  },
  {
   "cell_type": "markdown",
   "id": "229113a3-4d00-4afe-94bc-37e4b8bc8214",
   "metadata": {},
   "source": [
    "## 4.3. Setting no. of Epochs or Iterations"
   ]
  },
  {
   "cell_type": "code",
   "execution_count": 84,
   "id": "a809b310-c6e0-483a-bda4-57bf0d3930c4",
   "metadata": {},
   "outputs": [],
   "source": [
    "# Set the number of training epochs or iterations\n",
    "epochs = 50"
   ]
  },
  {
   "cell_type": "code",
   "execution_count": 85,
   "id": "5fa35fe2-adc7-4b61-8bd6-0a286cc15578",
   "metadata": {},
   "outputs": [],
   "source": [
    "# Compile the model with Adam optimizer, categorical crossentropy loss, and accuracy metric\n",
    "model.compile(\n",
    "    optimizer=keras.optimizers.Adam(1e-3),\n",
    "    loss=\"categorical_crossentropy\",\n",
    "    metrics=[\"accuracy\"],\n",
    ")"
   ]
  },
  {
   "cell_type": "markdown",
   "id": "b9d0cd66-3d7e-46ad-ac66-7112a743ce0d",
   "metadata": {},
   "source": [
    "## 4.4. Model Callbacks"
   ]
  },
  {
   "cell_type": "code",
   "execution_count": 86,
   "id": "ea5eef39-282c-40e0-898e-07787f87bbc0",
   "metadata": {},
   "outputs": [],
   "source": [
    "# Define a list of callbacks including EarlyStopping and TensorBoard\n",
    "callbacks = [\n",
    "    # EarlyStopping callback stops training if the validation loss stops decreasing for 2 consecutive epochs\n",
    "    keras.callbacks.EarlyStopping(monitor='val_loss', min_delta=0, patience=3, verbose=0, mode='auto'),\n",
    "    # TensorBoard callback logs training metrics for visualization using TensorBoard\n",
    "    tf.keras.callbacks.TensorBoard(log_dir='logs')]"
   ]
  },
  {
   "cell_type": "markdown",
   "id": "0a42de64-f73c-4ff8-8404-971b7d91cc7e",
   "metadata": {},
   "source": [
    "## 4.5. CNN Model Fitting"
   ]
  },
  {
   "cell_type": "markdown",
   "id": "d77cface-ee0d-49b7-8aaf-264a4d81709e",
   "metadata": {},
   "source": [
    "### More info: https://www.tensorflow.org/api_docs/python/tf/keras/Model"
   ]
  },
  {
   "cell_type": "code",
   "execution_count": null,
   "id": "7ad576a6-17ae-4ef4-82b0-2ac22a9c4003",
   "metadata": {},
   "outputs": [
    {
     "name": "stdout",
     "output_type": "stream",
     "text": [
      "Epoch 1/50\n",
      "\u001b[1m23/23\u001b[0m \u001b[32m━━━━━━━━━━━━━━━━━━━━\u001b[0m\u001b[37m\u001b[0m \u001b[1m5s\u001b[0m 104ms/step - accuracy: 0.4036 - loss: 1.0884 - val_accuracy: 0.4022 - val_loss: 1.0665\n",
      "Epoch 2/50\n",
      "\u001b[1m23/23\u001b[0m \u001b[32m━━━━━━━━━━━━━━━━━━━━\u001b[0m\u001b[37m\u001b[0m \u001b[1m2s\u001b[0m 72ms/step - accuracy: 0.4969 - loss: 1.0362 - val_accuracy: 0.3533 - val_loss: 1.1004\n",
      "Epoch 3/50\n",
      "\u001b[1m23/23\u001b[0m \u001b[32m━━━━━━━━━━━━━━━━━━━━\u001b[0m\u001b[37m\u001b[0m \u001b[1m2s\u001b[0m 70ms/step - accuracy: 0.4807 - loss: 1.0449 - val_accuracy: 0.4620 - val_loss: 1.0367\n",
      "Epoch 4/50\n",
      "\u001b[1m23/23\u001b[0m \u001b[32m━━━━━━━━━━━━━━━━━━━━\u001b[0m\u001b[37m\u001b[0m \u001b[1m2s\u001b[0m 70ms/step - accuracy: 0.5386 - loss: 0.9963 - val_accuracy: 0.4674 - val_loss: 1.0119\n",
      "Epoch 5/50\n",
      "\u001b[1m23/23\u001b[0m \u001b[32m━━━━━━━━━━━━━━━━━━━━\u001b[0m\u001b[37m\u001b[0m \u001b[1m2s\u001b[0m 70ms/step - accuracy: 0.5537 - loss: 0.9475 - val_accuracy: 0.4891 - val_loss: 0.9790\n",
      "Epoch 6/50\n",
      "\u001b[1m 3/23\u001b[0m \u001b[32m━━\u001b[0m\u001b[37m━━━━━━━━━━━━━━━━━━\u001b[0m \u001b[1m1s\u001b[0m 66ms/step - accuracy: 0.5660 - loss: 0.8956"
     ]
    }
   ],
   "source": [
    "# Train the model on the training dataset, and validate on the validation dataset\n",
    "model.fit(train_ds, epochs=epochs, validation_data=val_ds, callbacks=callbacks)"
   ]
  },
  {
   "cell_type": "markdown",
   "id": "2b59958a-36a9-4197-ad14-6a244390cf6d",
   "metadata": {},
   "source": [
    "# 5. Predictions for Images"
   ]
  },
  {
   "cell_type": "markdown",
   "id": "573e109f-3457-4ce7-a160-a3c7db6d8bc0",
   "metadata": {},
   "source": [
    "## 5.1. Selecting an Image for Evaluation & Prediction"
   ]
  },
  {
   "cell_type": "code",
   "execution_count": null,
   "id": "25831829-349c-44ae-b203-abae761eeee9",
   "metadata": {},
   "outputs": [],
   "source": [
    "# Load an image from the specified file path, resizing it to the target size\n",
    "img = keras.preprocessing.image.load_img(\n",
    "    \"hair_types/Curly_Hair/02dac897d1dec9ba8c057a11d041ada8--layered-natural-hair-natural-black-hairstyles.jpg\", \n",
    "    target_size=image_size\n",
    ")"
   ]
  },
  {
   "cell_type": "code",
   "execution_count": null,
   "id": "b7cac5ca-143e-4470-8503-451f13ad5558",
   "metadata": {},
   "outputs": [],
   "source": [
    "# Convert the loaded image to a NumPy array\n",
    "img_array = keras.preprocessing.image.img_to_array(img)\n",
    "\n",
    "# Add a batch axis to the image array to create a batch of size 1\n",
    "img_array = tf.expand_dims(img_array, 0)  # Create batch axis\n",
    "\n",
    "# Use the trained model to make predictions on the image array\n",
    "predictions = model.predict(img_array)\n",
    "\n",
    "# Print the image\n",
    "plt.imshow(img)"
   ]
  },
  {
   "cell_type": "markdown",
   "id": "870ccc65-cdcb-4db6-9762-17cd0a0af633",
   "metadata": {},
   "source": [
    "## 5.2. Making Predictions"
   ]
  },
  {
   "cell_type": "code",
   "execution_count": 61,
   "id": "62dbbca4-5313-48e7-b8f1-1af77c6b160a",
   "metadata": {},
   "outputs": [
    {
     "name": "stdout",
     "output_type": "stream",
     "text": [
      "This image is 0.90 percent curly hair, 0.08 percent straight hair, and 0.02 percent wavy hair.\n",
      "Predicted Image Class: Curly Hair\n"
     ]
    }
   ],
   "source": [
    "# Print the predicted probabilities for each hair type\n",
    "print(\n",
    "    \"This image is %.2f percent curly hair, %.2f percent straight hair, and %.2f percent wavy hair.\"\n",
    "    % tuple(predictions[0])\n",
    ")\n",
    "\n",
    "# Find the index of the maximum probability\n",
    "predicted_class_index = np.argmax(predictions[0])\n",
    "\n",
    "# Define the class labels\n",
    "class_labels = [\"Curly Hair\", \"Straight Hair\", \"Wavy Hair\"]\n",
    "\n",
    "# Print the predicted image class\n",
    "print(\"Predicted Image Class:\", class_labels[predicted_class_index])"
   ]
  },
  {
   "cell_type": "markdown",
   "id": "4990ddd3-1517-437c-9490-6ddd6f58da84",
   "metadata": {},
   "source": [
    "# 6. Visualizing Metrics & Results using TensorBoard"
   ]
  },
  {
   "cell_type": "code",
   "execution_count": 68,
   "id": "66d5d649-eac3-4e9c-a4c5-6e64ed87b929",
   "metadata": {},
   "outputs": [
    {
     "name": "stdout",
     "output_type": "stream",
     "text": [
      "^C\n"
     ]
    }
   ],
   "source": [
    "import webbrowser\n",
    "\n",
    "# Launch TensorBoard to visualize training logs\n",
    "webbrowser.open_new_tab('http://localhost:8088')\n",
    "!tensorboard --logdir=logs/ --host localhost --port 8088"
   ]
  },
  {
   "cell_type": "code",
   "execution_count": null,
   "id": "bab2370e-8637-4562-9908-bcdb182fdfaf",
   "metadata": {},
   "outputs": [],
   "source": []
  }
 ],
 "metadata": {
  "kernelspec": {
   "display_name": "Python 3 (ipykernel)",
   "language": "python",
   "name": "python3"
  },
  "language_info": {
   "codemirror_mode": {
    "name": "ipython",
    "version": 3
   },
   "file_extension": ".py",
   "mimetype": "text/x-python",
   "name": "python",
   "nbconvert_exporter": "python",
   "pygments_lexer": "ipython3",
   "version": "3.12.0"
  }
 },
 "nbformat": 4,
 "nbformat_minor": 5
}
